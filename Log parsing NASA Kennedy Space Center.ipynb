{
 "cells": [
  {
   "cell_type": "code",
   "execution_count": 1,
   "metadata": {},
   "outputs": [
    {
     "ename": "ModuleNotFoundError",
     "evalue": "No module named 'pyspark'",
     "output_type": "error",
     "traceback": [
      "\u001b[1;31m---------------------------------------------------------------------------\u001b[0m",
      "\u001b[1;31mModuleNotFoundError\u001b[0m                       Traceback (most recent call last)",
      "\u001b[1;32m<ipython-input-1-33eed94f6e31>\u001b[0m in \u001b[0;36m<module>\u001b[1;34m()\u001b[0m\n\u001b[0;32m      1\u001b[0m \u001b[1;31m#Log parsing of access log of NASA Kennedy Space Center WWW server in Florida for getting meaningful insights on data.\u001b[0m\u001b[1;33m\u001b[0m\u001b[1;33m\u001b[0m\u001b[0m\n\u001b[1;32m----> 2\u001b[1;33m \u001b[1;32mfrom\u001b[0m \u001b[0mpyspark\u001b[0m\u001b[1;33m.\u001b[0m\u001b[0msql\u001b[0m \u001b[1;32mimport\u001b[0m \u001b[0mRow\u001b[0m\u001b[1;33m\u001b[0m\u001b[0m\n\u001b[0m\u001b[0;32m      3\u001b[0m \u001b[1;32mimport\u001b[0m \u001b[0mre\u001b[0m\u001b[1;33m\u001b[0m\u001b[0m\n\u001b[0;32m      4\u001b[0m \u001b[1;33m\u001b[0m\u001b[0m\n\u001b[0;32m      5\u001b[0m \u001b[0mPATTERN\u001b[0m \u001b[1;33m=\u001b[0m \u001b[1;34m'^(\\S+) (\\S+) (\\S+) \\[([\\w:/]+\\s[+\\-]\\d{4})\\] \"(\\S+) (\\S+)(.*)\" (\\d{3}) (\\S+)'\u001b[0m\u001b[1;33m\u001b[0m\u001b[0m\n",
      "\u001b[1;31mModuleNotFoundError\u001b[0m: No module named 'pyspark'"
     ]
    }
   ],
   "source": [
    "#Log parsing of access log of NASA Kennedy Space Center WWW server in Florida for getting meaningful insights on data.\n",
    "from pyspark.sql import Row\n",
    "import re\n",
    "\n",
    "PATTERN = '^(\\S+) (\\S+) (\\S+) \\[([\\w:/]+\\s[+\\-]\\d{4})\\] \"(\\S+) (\\S+)(.*)\" (\\d{3}) (\\S+)'\n",
    "\n",
    "def parseLogLine(log):\n",
    "    m = re.match(PATTERN, log)\n",
    "    if m:\n",
    "        return [Row(timeStamp=m.group(4),url=m.group(6), httpCode=int(m.group(8)))]\n",
    "    else:\n",
    "        return []\n",
    "\n",
    "from pyspark.sql import SparkSession\n",
    "spark = SparkSession.builder.appName(\"PythonWordCount\").getOrCreate()\n",
    "sc = spark.sparkContext\n",
    "\n",
    "logFile = sc.textFile(\"/data/spark/project/NASA_access_log_Aug95.gz\")\n",
    "\n",
    "accessLog = logFile.flatMap(parseLogLine)\n",
    "accessDf = spark.createDataFrame(accessLog)\n",
    "accessDf.printSchema()\n",
    "accessDf.createOrReplaceTempView(\"nasalog\")\n",
    "output = spark.sql(\"select * from nasalog\")\n",
    "output.createOrReplaceTempView(\"nasa_log\")\n",
    "\n",
    "# Problem 1 Top 10 requested URLs:\n",
    "spark.sql(\"select url,count(*) as req_cnt from nasa_log where upper(url) like '%HTML%' group by url order by req_cnt desc LIMIT 10\").show()\n",
    "\n",
    "# Problem 2 Top 5 time frames for high traffic:\n",
    "spark.sql(\"select substr(timeStamp,1,14) as timeFrame,count(*) as req_cnt from nasa_log group by substr(timeStamp,1,14) order by req_cnt  LIMIT 5\").show()\n",
    "\n",
    "# Problem 3 Top 5 time frames for least traffic:\n",
    "spark.sql(\"select substr(timeStamp,1,14) as timeFrame,count(*) as req_cnt from nasa_log group by substr(timeStamp,1,14) order by req_cnt desc LIMIT 5\").show()\n",
    "\n",
    "# Problem 4 Find HTTP codes:\n",
    "spark.sql(\"select httpCode,count(*) as req_cnt from nasa_log group by httpCode \").show()\n"
   ]
  },
  {
   "cell_type": "code",
   "execution_count": null,
   "metadata": {},
   "outputs": [],
   "source": []
  }
 ],
 "metadata": {
  "kernelspec": {
   "display_name": "Python 3",
   "language": "python",
   "name": "python3"
  },
  "language_info": {
   "codemirror_mode": {
    "name": "ipython",
    "version": 3
   },
   "file_extension": ".py",
   "mimetype": "text/x-python",
   "name": "python",
   "nbconvert_exporter": "python",
   "pygments_lexer": "ipython3",
   "version": "3.6.5"
  }
 },
 "nbformat": 4,
 "nbformat_minor": 2
}
