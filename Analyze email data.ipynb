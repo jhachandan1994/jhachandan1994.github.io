{
 "cells": [
  {
   "cell_type": "markdown",
   "metadata": {},
   "source": [
    "# Extract all emails and analyze the email data to get meaningful insights"
   ]
  },
  {
   "cell_type": "code",
   "execution_count": 15,
   "metadata": {},
   "outputs": [
    {
     "name": "stdout",
     "output_type": "stream",
     "text": [
      "testingcloudx1994@gmail.com\n",
      "<jhachandan1994@gmail.com\n",
      "testingcloudx1994@gmail.com\n",
      "JHACHANDAN1994@GMAIL.COM <JHACHANDAN1994@gmail.com\n",
      "testingcloudx1994@gmail.com\n",
      "testingcloudx1994@gmail.com\n",
      "testingcloudx1994@gmail.com\n",
      "testingcloudx1994@gmail.com\n",
      "testingcloudx1994@gmail.com\n",
      "JHACHANDAN1994@GMAIL.COM <JHACHANDAN1994@gmail.com\n"
     ]
    }
   ],
   "source": [
    "## Python Project 1\n",
    "import os, pathlib, re\n",
    "\n",
    "def get_email_count(path1='/home/jhachandan19946593/bin/gyb/GYB-GMail-Backup-testingcloudx1994@gmail.com/', field='To', pattern='([<].*@[^>]*)'):\n",
    "    emails_dict=dict()\n",
    "    for path, subdirs, files in os.walk(path1):\n",
    "        for name in files:\n",
    "            if(name.endswith('sqlite')):\n",
    "                continue\n",
    "            hand=open(pathlib.PurePath(path, name))\n",
    "            index=0\n",
    "            for line in hand:\n",
    "                index+=1\n",
    "                email=''\n",
    "                if line.startswith(field+\":\"):\n",
    "                    email=re.findall(pattern,line)[0][1:]\n",
    "                    print(email)\n",
    "\n",
    "get_email_count('/home/jhachandan19946593/bin/gyb/GYB-GMail-Backup-testingcloudx1994@gmail.com/', 'To', '([ <].*@[^>\\n ]*)')"
   ]
  },
  {
   "cell_type": "code",
   "execution_count": 22,
   "metadata": {},
   "outputs": [
    {
     "name": "stdout",
     "output_type": "stream",
     "text": [
      "Top hour slot at which emails were sent: 03\n",
      "Top sender of emails: no-reply@accounts.google.com\n",
      "Top recepient of emails: JHACHANDAN1994@gmail.com\n",
      "Top friend: no-reply@accounts.google.com\n"
     ]
    }
   ],
   "source": [
    "## Python Project 2\n",
    "import os, pathlib, re\n",
    "import pandas as pd\n",
    "def get_details(path1='/home/jhachandan19946593/bin/gyb/GYB-GMail-Backup-testingcloudx1994@gmail.com/',email_id_Personal='testingcloudx1994@gmail.com'):\n",
    "    data = pd.DataFrame(columns=['fromEmails', 'toEmails', 'dates','hrs','emails'])\n",
    "    for path, subdirs, files in os.walk(path1):\n",
    "        index=0\n",
    "        for name in files:\n",
    "            if(name.endswith('sqlite')):\n",
    "                continue\n",
    "            hand=open(pathlib.PurePath(path, name))\n",
    "            FromEmail=''\n",
    "            ToEmail=''\n",
    "            dateExt=''\n",
    "            pattern1 = '([<].*@[^>\\n ]*)'\n",
    "            pattern2 = '([ ].*@[^>\\n ]*)'\n",
    "            for line in hand:\n",
    "                if line.startswith(\"To:\"):\n",
    "                    if (len(re.findall('[<]',line)))>0:\n",
    "                        ToEmail=re.findall(pattern1,line)[0][1:]\n",
    "                    else:\n",
    "                        ToEmail=re.findall(pattern2,line)[0][1:]\n",
    "                elif line.startswith(\"From:\"):\n",
    "                    if (len(re.findall('[<]',line))):\n",
    "                        FromEmail=re.findall(pattern1,line)[0][1:]\n",
    "                    else:\n",
    "                        FromEmail=re.findall(pattern2,line)[0][1:]\n",
    "                elif line.startswith(\"Date:\"):\n",
    "                    dateExt=re.findall(\"[ ].*[ \\n]\",line)[0].strip()\n",
    "                    hourSlot=dateExt.split(\" \")[4].split(\":\")[0]\n",
    "            index+=1\n",
    "            data.loc[index] = [FromEmail, ToEmail, dateExt, hourSlot, FromEmail]\n",
    "            index+=1\n",
    "            data.loc[index] = [FromEmail, ToEmail, dateExt, hourSlot, ToEmail]\n",
    "    topTimes=data[(data[\"fromEmails\"] != email_id_Personal)].groupby(['hrs']).agg('count')['fromEmails'].sort_values(ascending =False)\n",
    "    topFrom=data.groupby(['fromEmails']).agg('count')['toEmails'].sort_values(ascending =False)\n",
    "    topTo=data.groupby(['toEmails']).agg('count')['fromEmails'].sort_values(ascending =False)\n",
    "    topConvo=data.groupby(['emails']).agg('count')['fromEmails'].sort_values(ascending =False)\n",
    "    \n",
    "    print('Top hour slot at which emails were sent: '+topTimes.index[0])\n",
    "    if len(topFrom)>1 and topFrom.index[0] == (email_id_Personal) :\n",
    "        print('Top sender of emails: '+topFrom.index[1])\n",
    "    elif len(topFrom)>0:\n",
    "        print('Top sender of emails: '+topFrom.index[0])\n",
    "    else:\n",
    "        print('No emails were received by the user')\n",
    "        \n",
    "    if len(topTo)>1 and topTo.index[0] == (email_id_Personal) :\n",
    "        print('Top recepient of emails: '+topTo.index[1])\n",
    "    elif len(topTo)>0:\n",
    "        print('Top recepient of emails: '+topTo.index[0])\n",
    "    else:\n",
    "        print('No emails sent')\n",
    "        \n",
    "        \n",
    "    if len(topConvo)>1 and topConvo.index[0] == (email_id_Personal):\n",
    "        print('Top friend: '+topConvo.index[1])\n",
    "    elif len(topConvo)>0:\n",
    "        print('Top friend: '+topConvo.index[0])\n",
    "    else:\n",
    "        print('No top friend')\n",
    "        \n",
    "get_details('/home/jhachandan19946593/bin/gyb/GYB-GMail-Backup-testingcloudx1994@gmail.com/','testingcloudx1994@gmail.com')"
   ]
  },
  {
   "cell_type": "code",
   "execution_count": null,
   "metadata": {},
   "outputs": [],
   "source": []
  },
  {
   "cell_type": "code",
   "execution_count": null,
   "metadata": {},
   "outputs": [],
   "source": []
  }
 ],
 "metadata": {
  "kernelspec": {
   "display_name": "Python 3",
   "language": "python",
   "name": "python3"
  },
  "language_info": {
   "codemirror_mode": {
    "name": "ipython",
    "version": 3
   },
   "file_extension": ".py",
   "mimetype": "text/x-python",
   "name": "python",
   "nbconvert_exporter": "python",
   "pygments_lexer": "ipython3",
   "version": "3.6.5"
  },
  "toc": {
   "base_numbering": 1,
   "nav_menu": {},
   "number_sections": true,
   "sideBar": true,
   "skip_h1_title": false,
   "title_cell": "Table of Contents",
   "title_sidebar": "Contents",
   "toc_cell": false,
   "toc_position": {},
   "toc_section_display": true,
   "toc_window_display": false
  }
 },
 "nbformat": 4,
 "nbformat_minor": 2
}
